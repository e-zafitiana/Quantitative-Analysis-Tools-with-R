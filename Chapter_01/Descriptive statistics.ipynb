{
 "cells": [
  {
   "cell_type": "markdown",
   "id": "012336cf",
   "metadata": {},
   "source": [
    "### **Descriptive and Graphical Data Analysis**"
   ]
  },
  {
   "cell_type": "markdown",
   "id": "0ffd92d7",
   "metadata": {},
   "source": [
    "#### **Numerical Descriptive Statistics:**\n",
    "**1 - Measures of Central Tendency:**\n",
    "\n",
    "Indicate the center of data: where most values cluster."
   ]
  },
  {
   "cell_type": "code",
   "execution_count": 9,
   "id": "66e8bb8d",
   "metadata": {},
   "outputs": [],
   "source": [
    "# Importing Necessary Libraries\n",
    "import numpy as np\n",
    "import matplotlib.pyplot as plt"
   ]
  },
  {
   "cell_type": "markdown",
   "id": "69c55b11",
   "metadata": {},
   "source": [
    "- ``Mean`` (Arithmetic Mean): The sum of values divided by their count."
   ]
  },
  {
   "cell_type": "code",
   "execution_count": 8,
   "id": "5346b480",
   "metadata": {},
   "outputs": [
    {
     "name": "stdout",
     "output_type": "stream",
     "text": [
      "30.0\n"
     ]
    }
   ],
   "source": [
    "# Calculating mean in Python\n",
    "data = [10, 20, 30, 40, 50]\n",
    "mean_value = np.mean(data)\n",
    "print(mean_value)"
   ]
  },
  {
   "cell_type": "markdown",
   "id": "bb0dcd43",
   "metadata": {},
   "source": [
    "- ``Weighted Mean``: A mean that gives different weights to each value."
   ]
  },
  {
   "cell_type": "code",
   "execution_count": 12,
   "id": "15b86714",
   "metadata": {},
   "outputs": [
    {
     "name": "stdout",
     "output_type": "stream",
     "text": [
      "21.0\n"
     ]
    }
   ],
   "source": [
    "# Calculating weighted mean in Python\n",
    "values = [10, 20, 30]\n",
    "weights = [0.2, 0.5, 0.3]\n",
    "weighted_mean = np.average(values, weights=weights)\n",
    "print(weighted_mean)"
   ]
  },
  {
   "cell_type": "markdown",
   "id": "5ea374cc",
   "metadata": {},
   "source": [
    "- ``Median:`` The central value when data is sorted."
   ]
  },
  {
   "cell_type": "code",
   "execution_count": null,
   "id": "52dca317",
   "metadata": {},
   "outputs": [
    {
     "name": "stdout",
     "output_type": "stream",
     "text": [
      "30.0\n"
     ]
    }
   ],
   "source": [
    "# Calculating median\n",
    "data = [10, 20, 30, 40, 50]\n",
    "median_value = np.median(data)\n",
    "print (median_value)"
   ]
  },
  {
   "cell_type": "markdown",
   "id": "82361779",
   "metadata": {},
   "source": [
    "- ``Mode``: The most frequently occurring value."
   ]
  },
  {
   "cell_type": "code",
   "execution_count": 33,
   "id": "934237c2",
   "metadata": {},
   "outputs": [
    {
     "name": "stdout",
     "output_type": "stream",
     "text": [
      "ModeResult(mode=20, count=2)\n"
     ]
    }
   ],
   "source": [
    "data = [10, 20, 20, 30, 40]\n",
    "mode_result = stats.mode(data, keepdims=False)  \n",
    "mode_value = mode_result.mode\n",
    "mode_count = mode_result.count\n",
    "print(mode_result)"
   ]
  },
  {
   "cell_type": "markdown",
   "id": "b0c98e8b",
   "metadata": {},
   "source": [
    "\n",
    "**2 - Measures of Dispersion:**\n",
    "\n",
    "**Why Study Dispersion?**\n",
    "\n",
    "Measures of central tendency (mean, median) show only the center of data, not its spread.\n",
    "\n",
    "**Example:** If you are told that the average depth of a river is 1 meter, this does not mean that the depth is uniform.\n",
    "\n",
    "Dispersion allows for comparing variability across multiple datasets."
   ]
  },
  {
   "cell_type": "markdown",
   "id": "dfa097d2",
   "metadata": {},
   "source": [
    "- ``Range``: Difference between the maximum and minimum values."
   ]
  },
  {
   "cell_type": "code",
   "execution_count": 10,
   "id": "3789dfa2",
   "metadata": {},
   "outputs": [
    {
     "name": "stdout",
     "output_type": "stream",
     "text": [
      "40\n"
     ]
    }
   ],
   "source": [
    "# Calculating range\n",
    "data = [10, 20, 30, 40, 50]\n",
    "data_range = np.max(data) - np.min(data)\n",
    "print(data_range)"
   ]
  },
  {
   "cell_type": "markdown",
   "id": "60c6d230",
   "metadata": {},
   "source": [
    "- ``Mean Absolute Deviation`` (MAD): \n",
    "\n",
    "Average of absolute deviations from the mean.\n",
    "\n",
    "Measures the true average dispersion of values.\n",
    "\n",
    "Not very sensitive to extreme values."
   ]
  },
  {
   "cell_type": "code",
   "execution_count": 12,
   "id": "ad3cc526",
   "metadata": {},
   "outputs": [
    {
     "name": "stdout",
     "output_type": "stream",
     "text": [
      "12.0\n"
     ]
    }
   ],
   "source": [
    "# Calculating MAD\n",
    "data = [10, 20, 30, 40, 50]\n",
    "mad_value = np.mean(np.abs(data - np.mean(data)))\n",
    "print(mad_value)"
   ]
  },
  {
   "cell_type": "markdown",
   "id": "24397039",
   "metadata": {},
   "source": [
    "- ``Variance`` (σ²): Average of squared deviations from the mean.\n",
    "\n",
    "- ``Standard Deviation`` (σ): Square root of variance."
   ]
  },
  {
   "cell_type": "code",
   "execution_count": 14,
   "id": "3773070e",
   "metadata": {},
   "outputs": [
    {
     "name": "stdout",
     "output_type": "stream",
     "text": [
      "200.0\n",
      "14.142135623730951\n"
     ]
    }
   ],
   "source": [
    "# Calculating variance and standard deviation\n",
    "data = [10, 20, 30, 40, 50]\n",
    "variance_value = np.var(data)\n",
    "std_dev_value = np.std(data)\n",
    "print(variance_value)\n",
    "print(std_dev_value)"
   ]
  },
  {
   "cell_type": "markdown",
   "id": "5dc5ea92",
   "metadata": {},
   "source": [
    "Dispersion measures how far the values ​​in a data set deviate from the mean.\n",
    "- Use ``MAD``: If your data may contain outliers.\n",
    "- Use ``Standard Deviation``: If you want a measure that highlights outliers."
   ]
  },
  {
   "cell_type": "code",
   "execution_count": 16,
   "id": "dbf7ae1a",
   "metadata": {},
   "outputs": [
    {
     "name": "stdout",
     "output_type": "stream",
     "text": [
      "MAD (Normal): 12.0\n",
      "Standard Deviation (Normal): 14.142135623730951\n",
      "MAD (Extreme): 152.0\n",
      "Standard Deviation (Extreme): 190.26297590440447\n"
     ]
    }
   ],
   "source": [
    "# Normal data and data with extreme value\n",
    "data_normal = [10, 20, 30, 40, 50]\n",
    "data_extreme = [10, 20, 30, 40, 500]\n",
    "\n",
    "mad_normal = np.mean(np.abs(data_normal - np.mean(data_normal)))\n",
    "std_normal = np.std(data_normal)\n",
    "\n",
    "mad_extreme = np.mean(np.abs(data_extreme - np.mean(data_extreme)))\n",
    "std_extreme = np.std(data_extreme)\n",
    "\n",
    "print(\"MAD (Normal):\", mad_normal)\n",
    "print(\"Standard Deviation (Normal):\", std_normal)\n",
    "print(\"MAD (Extreme):\", mad_extreme)\n",
    "print(\"Standard Deviation (Extreme):\", std_extreme)"
   ]
  },
  {
   "cell_type": "markdown",
   "id": "67d5ccc5",
   "metadata": {},
   "source": [
    "**3 - Skewness and Kurtosis:**\n",
    "\n",
    "``Skewness``: Measures the asymmetry of the distribution.\n",
    "-\tPositive : Right tail longer\n",
    "-\tNegative : Left tail longer"
   ]
  },
  {
   "cell_type": "code",
   "execution_count": 54,
   "id": "0420b698",
   "metadata": {},
   "outputs": [
    {
     "name": "stdout",
     "output_type": "stream",
     "text": [
      "Skewness (Normal): 0.0000 ; Symmetrical\n",
      "Skewness (Extreme): 1.4897 ; Positive Skewness\n"
     ]
    }
   ],
   "source": [
    "import numpy as np\n",
    "\n",
    "data_normal = np.array([10, 20, 30, 40, 50])      \n",
    "data_extreme = np.array([10, 20, 30, 40, 500])\n",
    "\n",
    "def interpret_skewness(data):\n",
    "    skew = np.mean(((data - np.mean(data)) / np.std(data)) ** 3)\n",
    "    \n",
    "    # Automatic Interpretation\n",
    "    if abs(skew) < 0.1:\n",
    "        interpretation = \"Symmetrical\"\n",
    "    elif skew > 0:\n",
    "        interpretation = \"Positive Skewness\"\n",
    "    else:\n",
    "        interpretation = \"Negative Skewness\"\n",
    "    \n",
    "    return skew, interpretation\n",
    "\n",
    "skew_normal, interpretation_normal = interpret_skewness(data_normal)\n",
    "skew_extreme, interpretation_extreme = interpret_skewness(data_extreme)\n",
    "\n",
    "print(f\"Skewness (Normal): {skew_normal:.4f} ; {interpretation_normal}\")\n",
    "print(f\"Skewness (Extreme): {skew_extreme:.4f} ; {interpretation_extreme}\")"
   ]
  },
  {
   "cell_type": "markdown",
   "id": "2f68dd78",
   "metadata": {},
   "source": [
    "**4 - Kurtosis:** Measures the “peakedness” of the distribution.\n",
    "\n",
    "-\tLeptokurtic: Sharp peak with heavy tails (frequent extreme values).\n",
    "-\tPlatykurtic: Flat peak with thin tails (few extreme values).\n",
    "-\tMesokurtic: Normal distribution (moderate peak and tails).\n"
   ]
  },
  {
   "cell_type": "code",
   "execution_count": 55,
   "id": "557b7fb3",
   "metadata": {},
   "outputs": [
    {
     "name": "stdout",
     "output_type": "stream",
     "text": [
      "Kurtosis (Normal): -1.3000\n",
      "Kurtosis (Extreme): 0.2362\n"
     ]
    }
   ],
   "source": [
    "import numpy as np\n",
    "\n",
    "# Your data\n",
    "data_normal = np.array([10, 20, 30, 40, 50])\n",
    "data_extreme = np.array([10, 20, 30, 40, 500])\n",
    "\n",
    "# Calculating Kurtosis (Excess Kurtosis)\n",
    "kurt_normal = np.mean(((data_normal - np.mean(data_normal)) / np.std(data_normal)) ** 4) - 3\n",
    "kurt_extreme = np.mean(((data_extreme - np.mean(data_extreme)) / np.std(data_extreme)) ** 4) - 3\n",
    "\n",
    "# Displaying results\n",
    "print(f\"Kurtosis (Normal): {kurt_normal:.4f}\")\n",
    "print(f\"Kurtosis (Extreme): {kurt_extreme:.4f}\")"
   ]
  }
 ],
 "metadata": {
  "kernelspec": {
   "display_name": "Python 3",
   "language": "python",
   "name": "python3"
  },
  "language_info": {
   "codemirror_mode": {
    "name": "ipython",
    "version": 3
   },
   "file_extension": ".py",
   "mimetype": "text/x-python",
   "name": "python",
   "nbconvert_exporter": "python",
   "pygments_lexer": "ipython3",
   "version": "3.12.8"
  }
 },
 "nbformat": 4,
 "nbformat_minor": 5
}
