{
 "cells": [
  {
   "cell_type": "markdown",
   "id": "3dab539e",
   "metadata": {},
   "source": [
    "### **The Quantitative Research Process**"
   ]
  },
  {
   "cell_type": "markdown",
   "id": "51115e45",
   "metadata": {},
   "source": [
    "The quantitative research process is a deductive approach focused on theory. It tests theories using data, defining their limits or conditions of application.\n",
    "\n",
    "**Key Elements:**\n",
    "\n",
    "``Theories``: General explanation of a phenomenon. How and why things happen.\n",
    "\n",
    "-\tMicro: Relative deprivation (social participation).\n",
    "-\tMeso: Iron law of oligarchy (hierarchy).\n",
    "-\tMacro: Democratic peace theory (relations between democracies).\n",
    "\n",
    "**Concepts and Variables:**\n",
    "\n",
    "``Concepts``: General ideas (democracy, war).\n",
    "\n",
    "``Variables``: Measurable versions (participation rate, number of conflicts).\n",
    "\n",
    "``Hypotheses``: Expected relationships between variables. Example: “The more democratic a country, the more stable it is.”\n",
    "\n",
    "**Independent (X)** and **Dependent (Y)** Variables:\n",
    "\n",
    "``Independent Variable (X)``: The cause or factor influencing another variable. Example: Level of education (X).\n",
    "\n",
    "``Dependent Variable (Y)``: The effect or observed result. Example: Income (Y), influenced by education."
   ]
  }
 ],
 "metadata": {
  "language_info": {
   "name": "python"
  }
 },
 "nbformat": 4,
 "nbformat_minor": 5
}
